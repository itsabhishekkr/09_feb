{
 "cells": [
  {
   "cell_type": "code",
   "execution_count": 28,
   "id": "0ebaf66c",
   "metadata": {},
   "outputs": [],
   "source": [
    "#Q1)\n",
    "class vehical:\n",
    "    def __init__(self,name_of_vehicle,max_speed,average_of_vehicle):\n",
    "        self.name_of_vehicle=name_of_vehicle\n",
    "        self.max_speed=max_speed\n",
    "        self.average_of_vehicle=average_of_vehicle"
   ]
  },
  {
   "cell_type": "code",
   "execution_count": 33,
   "id": "cc170fb2",
   "metadata": {},
   "outputs": [],
   "source": [
    "#Q2)\n",
    "class Veh_child(vehical):\n",
    "    def __init__(self,name_of_vehicle,max_speed,average_of_vehicle):\n",
    "        super().__init__(name_of_vehicle,max_speed,average_of_vehicle)\n",
    "    def seating_capacity(self,capacity):\n",
    "        return(self.name_of_vehicle,capacity)"
   ]
  },
  {
   "cell_type": "code",
   "execution_count": 34,
   "id": "668ed55c",
   "metadata": {},
   "outputs": [],
   "source": [
    "obj=vehical(\"scorpio\",120,80)"
   ]
  },
  {
   "cell_type": "code",
   "execution_count": 35,
   "id": "53c38dd7",
   "metadata": {},
   "outputs": [],
   "source": [
    "obj1=Veh_child(\"fortunar\",150,100)"
   ]
  },
  {
   "cell_type": "code",
   "execution_count": 36,
   "id": "ce6a2da0",
   "metadata": {},
   "outputs": [
    {
     "data": {
      "text/plain": [
       "('fortunar', 60)"
      ]
     },
     "execution_count": 36,
     "metadata": {},
     "output_type": "execute_result"
    }
   ],
   "source": [
    "obj1.seating_capacity(60)"
   ]
  },
  {
   "cell_type": "code",
   "execution_count": 37,
   "id": "d604cf7b",
   "metadata": {},
   "outputs": [],
   "source": [
    "#Q3)\n",
    "class Student:\n",
    "    def __init__(self, name,age,subject):\n",
    "        self.name = name\n",
    "        self.age = age\n",
    "        self.subject = subject\n",
    "\n",
    "    def subjchoosen(self):\n",
    "        print(\"The subject choosen is\",self.subject )\n",
    "\n",
    "class Science(Student):\n",
    "    def __init__(self,name,age,subject):\n",
    "        super().__init__(name, age,subject)\n",
    "    def sub_ch(self):\n",
    "         super().subjchoosen()"
   ]
  },
  {
   "cell_type": "code",
   "execution_count": 38,
   "id": "24be4e78",
   "metadata": {},
   "outputs": [],
   "source": [
    "sc=Science(\"ram\",20,\"physics\")"
   ]
  },
  {
   "cell_type": "code",
   "execution_count": 39,
   "id": "b708382a",
   "metadata": {},
   "outputs": [
    {
     "name": "stdout",
     "output_type": "stream",
     "text": [
      "The subject choosen is physics\n"
     ]
    }
   ],
   "source": [
    "sc.sub_ch()"
   ]
  },
  {
   "cell_type": "code",
   "execution_count": 40,
   "id": "6242036c",
   "metadata": {},
   "outputs": [],
   "source": [
    "#Q4\n",
    "class Student:\n",
    "    def __init__(self, name,age,subject):\n",
    "        self.name = name\n",
    "        self.age = age\n",
    "        self.subject = subject\n",
    "    def gatter(self,capacity):\n",
    "        return(self.name,self.age,self.subject)\n",
    "    def setter(self,name):\n",
    "        self.name=name\n",
    "    def ret(self):\n",
    "        return(self.name,self.age,self.subject)"
   ]
  },
  {
   "cell_type": "code",
   "execution_count": 41,
   "id": "8bdbadbb",
   "metadata": {},
   "outputs": [],
   "source": [
    "obj=Student(\"Atul\",24,\"Physics\")"
   ]
  },
  {
   "cell_type": "code",
   "execution_count": 42,
   "id": "d37517a4",
   "metadata": {},
   "outputs": [
    {
     "data": {
      "text/plain": [
       "('Atul', 24, 'Physics')"
      ]
     },
     "execution_count": 42,
     "metadata": {},
     "output_type": "execute_result"
    }
   ],
   "source": [
    "obj.gatter(50)"
   ]
  },
  {
   "cell_type": "code",
   "execution_count": 43,
   "id": "66c22b1a",
   "metadata": {},
   "outputs": [],
   "source": [
    "obj.setter(\"Abhishek\")"
   ]
  },
  {
   "cell_type": "code",
   "execution_count": 44,
   "id": "9ff3e65a",
   "metadata": {},
   "outputs": [
    {
     "data": {
      "text/plain": [
       "('Abhishek', 24, 'Physics')"
      ]
     },
     "execution_count": 44,
     "metadata": {},
     "output_type": "execute_result"
    }
   ],
   "source": [
    "obj.ret()"
   ]
  },
  {
   "cell_type": "code",
   "execution_count": 45,
   "id": "45984990",
   "metadata": {},
   "outputs": [
    {
     "name": "stdout",
     "output_type": "stream",
     "text": [
      "Inside Child\n",
      "Inside Parent2\n"
     ]
    }
   ],
   "source": [
    "#Q5)\n",
    "# Python program to demonstrate \n",
    "# overriding in multiple inheritance \n",
    "  \n",
    "  \n",
    "# Defining parent class 1 \n",
    "class Parent1(): \n",
    "          \n",
    "    # Parent's show method \n",
    "    def show(self): \n",
    "        print(\"Inside Parent1\") \n",
    "          \n",
    "# Defining Parent class 2 \n",
    "class Parent2(): \n",
    "          \n",
    "    # Parent's show method \n",
    "    def display(self): \n",
    "        print(\"Inside Parent2\") \n",
    "          \n",
    "          \n",
    "# Defining child class \n",
    "class Child(Parent1, Parent2): \n",
    "          \n",
    "    # Child's show method \n",
    "    def show(self): \n",
    "        print(\"Inside Child\") \n",
    "     \n",
    "        \n",
    "# Driver's code \n",
    "obj = Child() \n",
    "  \n",
    "obj.show() \n",
    "obj.display() "
   ]
  },
  {
   "cell_type": "code",
   "execution_count": null,
   "id": "d5e6beef",
   "metadata": {},
   "outputs": [],
   "source": []
  }
 ],
 "metadata": {
  "kernelspec": {
   "display_name": "Python 3 (ipykernel)",
   "language": "python",
   "name": "python3"
  },
  "language_info": {
   "codemirror_mode": {
    "name": "ipython",
    "version": 3
   },
   "file_extension": ".py",
   "mimetype": "text/x-python",
   "name": "python",
   "nbconvert_exporter": "python",
   "pygments_lexer": "ipython3",
   "version": "3.11.5"
  }
 },
 "nbformat": 4,
 "nbformat_minor": 5
}
